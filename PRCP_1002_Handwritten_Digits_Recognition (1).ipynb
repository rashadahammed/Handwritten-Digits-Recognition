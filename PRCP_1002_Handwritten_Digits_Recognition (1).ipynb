{
  "cells": [
    {
      "cell_type": "markdown",
      "metadata": {
        "id": "Olp_ZE2L9eEM"
      },
      "source": [
        "## PROJECT GROUP ID: PTID-CDS-FEB-24-1833"
      ]
    },
    {
      "cell_type": "markdown",
      "metadata": {
        "id": "8w7oWZYI9ZZE"
      },
      "source": [
        "# PROJECT ID: PRCP-1002-Handwritten Digits Recognition"
      ]
    },
    {
      "cell_type": "markdown",
      "metadata": {
        "id": "bJfGwryMDClN"
      },
      "source": [
        "## PROBLEM STATEMENT\n",
        "\n",
        "### Task 1:-Prepare a complete data analysis report on the given data.\n",
        "\n",
        "### Task 2:- Classify a given image of a handwritten digit into one of the 10 classes representing integer values from 0 to 9.\n",
        "\n",
        "### Task3:- Compare between various models and find the classifier that works better."
      ]
    },
    {
      "cell_type": "markdown",
      "metadata": {
        "id": "F5dettI_DiHa"
      },
      "source": [
        "## IMPORT NECESSARY LIBRARIES"
      ]
    },
    {
      "cell_type": "code",
      "source": [
        "%tensorflow_version 2.x"
      ],
      "metadata": {
        "colab": {
          "base_uri": "https://localhost:8080/"
        },
        "id": "-QJzgakl8EUs",
        "outputId": "30059c5c-0deb-4b2e-90d8-769797cff084"
      },
      "execution_count": 1,
      "outputs": [
        {
          "output_type": "stream",
          "name": "stdout",
          "text": [
            "Colab only includes TensorFlow 2.x; %tensorflow_version has no effect.\n"
          ]
        }
      ]
    },
    {
      "cell_type": "code",
      "execution_count": 2,
      "metadata": {
        "id": "9sPj14oD9Qkj"
      },
      "outputs": [],
      "source": [
        "import numpy as np\n",
        "import pandas as pd\n",
        "import seaborn as sns\n",
        "import matplotlib.pyplot as plt\n",
        "import keras\n",
        "from keras.datasets import mnist\n",
        "from keras.models import Sequential\n",
        "from keras.layers import Dropout\n",
        "from keras.layers import Flatten\n",
        "from keras.layers import Conv2D\n",
        "from keras.layers import MaxPooling2D\n",
        "from keras import backend as K\n",
        "import tensorflow as tf\n",
        "import math\n",
        "import datetime\n",
        "import platform\n",
        "import warnings\n",
        "warnings.filterwarnings('ignore')"
      ]
    },
    {
      "cell_type": "markdown",
      "metadata": {
        "id": "pFoenVxdGE81"
      },
      "source": [
        "## LOAD THE DATA"
      ]
    },
    {
      "cell_type": "code",
      "execution_count": 3,
      "metadata": {
        "id": "dfuCL0vIFHFB",
        "colab": {
          "base_uri": "https://localhost:8080/"
        },
        "outputId": "bb4cf03c-aa3a-4ec2-8d95-653fd5e351ee"
      },
      "outputs": [
        {
          "output_type": "stream",
          "name": "stdout",
          "text": [
            "Downloading data from https://storage.googleapis.com/tensorflow/tf-keras-datasets/mnist.npz\n",
            "11490434/11490434 [==============================] - 1s 0us/step\n"
          ]
        }
      ],
      "source": [
        "from tensorflow.keras.datasets import mnist\n",
        "(x_train,y_train),(x_test,y_test)=mnist.load_data()"
      ]
    },
    {
      "cell_type": "code",
      "source": [
        "print('x_train:', x_train.shape)\n",
        "print('y_train:', y_train.shape)\n",
        "print('x_test:', x_test.shape)\n",
        "print('y_test:', y_test.shape)"
      ],
      "metadata": {
        "colab": {
          "base_uri": "https://localhost:8080/"
        },
        "id": "9qz6-kITsgHa",
        "outputId": "0f037d13-6ea0-4d00-8423-7cc2dc0cd412"
      },
      "execution_count": 4,
      "outputs": [
        {
          "output_type": "stream",
          "name": "stdout",
          "text": [
            "x_train: (60000, 28, 28)\n",
            "y_train: (60000,)\n",
            "x_test: (10000, 28, 28)\n",
            "y_test: (10000,)\n"
          ]
        }
      ]
    },
    {
      "cell_type": "markdown",
      "source": [
        "## Reshaping the data\n",
        "\n",
        "In order to use convolution layers we need to reshape our data and add a color channel to it. As you've noticed currently every digit has a shape of `(28, 28)` which means that it is a 28x28 matrix of color values form `0` to `255`. We need to reshape it to `(28, 28, 1)` shape so that each pixel potentially may have multiple channels (like Red, Green and Blue)."
      ],
      "metadata": {
        "id": "WSdYxKkx2P5-"
      }
    },
    {
      "cell_type": "code",
      "source": [
        "x_train = x_train.reshape(x_train.shape[0], 28, 28, 1)\n",
        "x_test = x_test.reshape(x_test.shape[0], 28, 28, 1)\n",
        "input_shape = (28, 28, 1)\n",
        "\n",
        "x_train = x_train.astype('float32')\n",
        "x_test = x_test.astype('float32')\n",
        "x_train /= 255\n",
        "x_test /= 255"
      ],
      "metadata": {
        "id": "c1jsEhd2ryI8"
      },
      "execution_count": 5,
      "outputs": []
    },
    {
      "cell_type": "markdown",
      "metadata": {
        "id": "0IVPQuDmItIn"
      },
      "source": [
        "## Explore the data"
      ]
    },
    {
      "cell_type": "code",
      "source": [
        "plt.imshow(x_train[0], cmap=plt.cm.binary)\n",
        "plt.show()"
      ],
      "metadata": {
        "colab": {
          "base_uri": "https://localhost:8080/",
          "height": 430
        },
        "id": "0LeU4kci15v0",
        "outputId": "03477d78-5a75-4472-f3c0-fa52ba61e843"
      },
      "execution_count": 6,
      "outputs": [
        {
          "output_type": "display_data",
          "data": {
            "text/plain": [
              "<Figure size 640x480 with 1 Axes>"
            ],
            "image/png": "[encoded data removed]"
          },
          "metadata": {}
        }
      ]
    },
    {
      "cell_type": "code",
      "source": [
        "numbers_to_display = 25\n",
        "num_cells = math.ceil(math.sqrt(numbers_to_display))\n",
        "plt.figure(figsize=(10,10))\n",
        "for i in range(numbers_to_display):\n",
        "    plt.subplot(num_cells, num_cells, i+1)\n",
        "    plt.xticks([])\n",
        "    plt.yticks([])\n",
        "    plt.grid(False)\n",
        "    plt.imshow(x_train[i], cmap=plt.cm.binary)\n",
        "plt.show()"
      ],
      "metadata": {
        "colab": {
          "base_uri": "https://localhost:8080/",
          "height": 807
        },
        "id": "tDbeR4ZSEOg4",
        "outputId": "20b4b3de-ed5a-4369-919f-1201f265346b"
      },
      "execution_count": 7,
      "outputs": [
        {
          "output_type": "display_data",
          "data": {
            "text/plain": [
              "<Figure size 1000x1000 with 25 Axes>"
            ],
            "image/png": "[encoded data removed]"
          },
          "metadata": {}
        }
      ]
    },
    {
      "cell_type": "code",
      "source": [
        "x_train[0][18]"
      ],
      "metadata": {
        "colab": {
          "base_uri": "https://localhost:8080/"
        },
        "id": "2YrfP3NREw-E",
        "outputId": "b3214886-459b-421b-e252-3dce95cc1504"
      },
      "execution_count": 8,
      "outputs": [
        {
          "output_type": "execute_result",
          "data": {
            "text/plain": [
              "array([[0.        ],\n",
              "       [0.        ],\n",
              "       [0.        ],\n",
              "       [0.        ],\n",
              "       [0.        ],\n",
              "       [0.        ],\n",
              "       [0.        ],\n",
              "       [0.        ],\n",
              "       [0.        ],\n",
              "       [0.        ],\n",
              "       [0.        ],\n",
              "       [0.        ],\n",
              "       [0.        ],\n",
              "       [0.        ],\n",
              "       [0.18039216],\n",
              "       [0.50980395],\n",
              "       [0.7176471 ],\n",
              "       [0.99215686],\n",
              "       [0.99215686],\n",
              "       [0.8117647 ],\n",
              "       [0.00784314],\n",
              "       [0.        ],\n",
              "       [0.        ],\n",
              "       [0.        ],\n",
              "       [0.        ],\n",
              "       [0.        ],\n",
              "       [0.        ],\n",
              "       [0.        ]], dtype=float32)"
            ]
          },
          "metadata": {},
          "execution_count": 8
        }
      ]
    },
    {
      "cell_type": "markdown",
      "source": [
        "## MODEL BUILDING"
      ],
      "metadata": {
        "id": "AhNM971d3KEO"
      }
    },
    {
      "cell_type": "markdown",
      "source": [
        "## CNN(Convolutional Neural Network)"
      ],
      "metadata": {
        "id": "uA8Fu3Rh3O4F"
      }
    },
    {
      "cell_type": "code",
      "source": [
        "model = tf.keras.models.Sequential()\n",
        "\n",
        "model.add(tf.keras.layers.Convolution2D(\n",
        "    input_shape=input_shape,\n",
        "    kernel_size=5,\n",
        "    filters=8,\n",
        "    strides=1,\n",
        "    activation=tf.keras.activations.relu,\n",
        "    kernel_initializer=tf.keras.initializers.VarianceScaling()\n",
        "))\n",
        "\n",
        "model.add(tf.keras.layers.MaxPooling2D(\n",
        "    pool_size=(2, 2),\n",
        "    strides=(2, 2)\n",
        "))\n",
        "\n",
        "model.add(tf.keras.layers.Convolution2D(\n",
        "    kernel_size=5,\n",
        "    filters=16,\n",
        "    strides=1,\n",
        "    activation=tf.keras.activations.relu,\n",
        "    kernel_initializer=tf.keras.initializers.VarianceScaling()\n",
        "))\n",
        "\n",
        "model.add(tf.keras.layers.MaxPooling2D(\n",
        "    pool_size=(2, 2),\n",
        "    strides=(2, 2)\n",
        "))\n",
        "\n",
        "model.add(tf.keras.layers.Flatten())\n",
        "\n",
        "model.add(tf.keras.layers.Dense(\n",
        "    units=128,\n",
        "    activation=tf.keras.activations.relu\n",
        "));\n",
        "\n",
        "model.add(tf.keras.layers.Dropout(0.2))\n",
        "\n",
        "model.add(tf.keras.layers.Dense(\n",
        "    units=10,\n",
        "    activation=tf.keras.activations.softmax,\n",
        "    kernel_initializer=tf.keras.initializers.VarianceScaling()\n",
        "))"
      ],
      "metadata": {
        "id": "SmE_ErzK3Nph"
      },
      "execution_count": 9,
      "outputs": []
    },
    {
      "cell_type": "code",
      "source": [
        "model.summary()"
      ],
      "metadata": {
        "colab": {
          "base_uri": "https://localhost:8080/"
        },
        "id": "ew8KTMElF7Lf",
        "outputId": "853a5bcf-b386-4047-ba10-0d987d4151ba"
      },
      "execution_count": 10,
      "outputs": [
        {
          "output_type": "stream",
          "name": "stdout",
          "text": [
            "Model: \"sequential\"\n",
            "_________________________________________________________________\n",
            " Layer (type)                Output Shape              Param #   \n",
            "=================================================================\n",
            " conv2d (Conv2D)             (None, 24, 24, 8)         208       \n",
            "                                                                 \n",
            " max_pooling2d (MaxPooling2  (None, 12, 12, 8)         0         \n",
            " D)                                                              \n",
            "                                                                 \n",
            " conv2d_1 (Conv2D)           (None, 8, 8, 16)          3216      \n",
            "                                                                 \n",
            " max_pooling2d_1 (MaxPoolin  (None, 4, 4, 16)          0         \n",
            " g2D)                                                            \n",
            "                                                                 \n",
            " flatten (Flatten)           (None, 256)               0         \n",
            "                                                                 \n",
            " dense (Dense)               (None, 128)               32896     \n",
            "                                                                 \n",
            " dropout (Dropout)           (None, 128)               0         \n",
            "                                                                 \n",
            " dense_1 (Dense)             (None, 10)                1290      \n",
            "                                                                 \n",
            "=================================================================\n",
            "Total params: 37610 (146.91 KB)\n",
            "Trainable params: 37610 (146.91 KB)\n",
            "Non-trainable params: 0 (0.00 Byte)\n",
            "_________________________________________________________________\n"
          ]
        }
      ]
    },
    {
      "cell_type": "code",
      "source": [
        "tf.keras.utils.plot_model(\n",
        "    model,\n",
        "    show_shapes=True,\n",
        "    show_layer_names=True,\n",
        ")"
      ],
      "metadata": {
        "colab": {
          "base_uri": "https://localhost:8080/",
          "height": 976
        },
        "id": "_i0tCJBzGEoQ",
        "outputId": "bc45a0ce-d772-4d80-f467-dcb33de1cdcc"
      },
      "execution_count": 11,
      "outputs": [
        {
          "output_type": "execute_result",
          "data": {
            "image/png": "[encoded data removed]",
            "text/plain": [
              "<IPython.core.display.Image object>"
            ]
          },
          "metadata": {},
          "execution_count": 11
        }
      ]
    },
    {
      "cell_type": "markdown",
      "metadata": {
        "id": "oE7-XBioKjEm"
      },
      "source": [
        "### Compile the model"
      ]
    },
    {
      "cell_type": "code",
      "execution_count": 12,
      "metadata": {
        "id": "-tVj8Pk4IsTG"
      },
      "outputs": [],
      "source": [
        "# Add a Flatten layer before the final Dense layer if your model doesn't already have one\n",
        "model.add(tf.keras.layers.Flatten())\n",
        "model.add(tf.keras.layers.Dense(10, activation='softmax'))\n",
        "\n",
        "adam_optimizer = tf.keras.optimizers.Adam(learning_rate=0.001)\n",
        "\n",
        "model.compile(\n",
        "    optimizer=adam_optimizer,\n",
        "    loss=tf.keras.losses.sparse_categorical_crossentropy,\n",
        "    metrics=['accuracy']\n",
        ")"
      ]
    },
    {
      "cell_type": "markdown",
      "source": [
        "### Train the model"
      ],
      "metadata": {
        "id": "1bM237sYGbFe"
      }
    },
    {
      "cell_type": "code",
      "source": [
        "print(\"Shape of y_train:\", y_train.shape)\n",
        "print(\"Shape of y_test:\", y_test.shape)"
      ],
      "metadata": {
        "colab": {
          "base_uri": "https://localhost:8080/"
        },
        "id": "j69P6-RZJuuT",
        "outputId": "bf30faac-7743-4ddc-a941-7d9327c9b5f5"
      },
      "execution_count": 13,
      "outputs": [
        {
          "output_type": "stream",
          "name": "stdout",
          "text": [
            "Shape of y_train: (60000,)\n",
            "Shape of y_test: (10000,)\n"
          ]
        }
      ]
    },
    {
      "cell_type": "code",
      "execution_count": 14,
      "metadata": {
        "colab": {
          "base_uri": "https://localhost:8080/"
        },
        "id": "DRtZnRKQIXJ8",
        "outputId": "4dccd3a7-04c8-4235-ec15-5759f539b2d2"
      },
      "outputs": [
        {
          "output_type": "stream",
          "name": "stdout",
          "text": [
            "Epoch 1/10\n",
            "1875/1875 [==============================] - 16s 5ms/step - loss: 1.3062 - accuracy: 0.5598 - val_loss: 0.8587 - val_accuracy: 0.6030\n",
            "Epoch 2/10\n",
            "1875/1875 [==============================] - 9s 5ms/step - loss: 0.7534 - accuracy: 0.5971 - val_loss: 0.6745 - val_accuracy: 0.6038\n",
            "Epoch 3/10\n",
            "1875/1875 [==============================] - 8s 4ms/step - loss: 0.6540 - accuracy: 0.6036 - val_loss: 0.6279 - val_accuracy: 0.6025\n",
            "Epoch 4/10\n",
            "1875/1875 [==============================] - 8s 4ms/step - loss: 0.6034 - accuracy: 0.6549 - val_loss: 0.5481 - val_accuracy: 0.7086\n",
            "Epoch 5/10\n",
            "1875/1875 [==============================] - 9s 5ms/step - loss: 0.5254 - accuracy: 0.7161 - val_loss: 0.4982 - val_accuracy: 0.7156\n",
            "Epoch 6/10\n",
            "1875/1875 [==============================] - 8s 4ms/step - loss: 0.4311 - accuracy: 0.8261 - val_loss: 0.2778 - val_accuracy: 0.9819\n",
            "Epoch 7/10\n",
            "1875/1875 [==============================] - 8s 4ms/step - loss: 0.1858 - accuracy: 0.9840 - val_loss: 0.1369 - val_accuracy: 0.9855\n",
            "Epoch 8/10\n",
            "1875/1875 [==============================] - 8s 5ms/step - loss: 0.1115 - accuracy: 0.9879 - val_loss: 0.1061 - val_accuracy: 0.9851\n",
            "Epoch 9/10\n",
            "1875/1875 [==============================] - 8s 4ms/step - loss: 0.0815 - accuracy: 0.9897 - val_loss: 0.0751 - val_accuracy: 0.9890\n",
            "Epoch 10/10\n",
            "1875/1875 [==============================] - 8s 4ms/step - loss: 0.0617 - accuracy: 0.9910 - val_loss: 0.0682 - val_accuracy: 0.9873\n"
          ]
        }
      ],
      "source": [
        "log_dir=\".logs/fit/\" + datetime.datetime.now().strftime(\"%Y%m%d-%H%M%S\")\n",
        "tensorboard_callback = tf.keras.callbacks.TensorBoard(log_dir=log_dir, histogram_freq=1)\n",
        "\n",
        "training_history = model.fit(\n",
        "    x_train,\n",
        "    y_train,\n",
        "    epochs=10,\n",
        "    validation_data=(x_test, y_test),\n",
        "    callbacks=[tensorboard_callback]\n",
        ")"
      ]
    },
    {
      "cell_type": "markdown",
      "source": [
        "## IMAGE VISUALIZATION"
      ],
      "metadata": {
        "id": "UFg1PINBLFGS"
      }
    },
    {
      "cell_type": "markdown",
      "metadata": {
        "id": "R2jmZa89Mi7N"
      },
      "source": [
        "Let's see how the loss function was changing during the training. We expect it to get smaller and smaller on every next epoch."
      ]
    },
    {
      "cell_type": "code",
      "execution_count": 15,
      "metadata": {
        "colab": {
          "base_uri": "https://localhost:8080/",
          "height": 467
        },
        "id": "bz8hlUoZNB5R",
        "outputId": "919e62e8-fd30-496d-aef2-3b05b6a17dcd"
      },
      "outputs": [
        {
          "output_type": "execute_result",
          "data": {
            "text/plain": [
              "<matplotlib.legend.Legend at 0x78b2fe6aaaa0>"
            ]
          },
          "metadata": {},
          "execution_count": 15
        },
        {
          "output_type": "display_data",
          "data": {
            "text/plain": [
              "<Figure size 640x480 with 1 Axes>"
            ],
            "image/png": "[encoded data removed]"
          },
          "metadata": {}
        }
      ],
      "source": [
        "plt.xlabel('Epoch Number')\n",
        "plt.ylabel('Loss')\n",
        "plt.plot(training_history.history['loss'], label='training set')\n",
        "plt.plot(training_history.history['val_loss'], label='test set')\n",
        "plt.legend()"
      ]
    },
    {
      "cell_type": "code",
      "source": [
        "plt.xlabel('Epoch Number')\n",
        "plt.ylabel('Accuracy')\n",
        "plt.plot(training_history.history['accuracy'], label='training set')\n",
        "plt.plot(training_history.history['val_accuracy'], label='test set')\n",
        "plt.legend()"
      ],
      "metadata": {
        "colab": {
          "base_uri": "https://localhost:8080/",
          "height": 467
        },
        "id": "Vv7odKyOLW_I",
        "outputId": "9fa7eef8-e92b-4c25-f2e4-c9e0c2f35f91"
      },
      "execution_count": 16,
      "outputs": [
        {
          "output_type": "execute_result",
          "data": {
            "text/plain": [
              "<matplotlib.legend.Legend at 0x78b2e02d2350>"
            ]
          },
          "metadata": {},
          "execution_count": 16
        },
        {
          "output_type": "display_data",
          "data": {
            "text/plain": [
              "<Figure size 640x480 with 1 Axes>"
            ],
            "image/png": "[encoded data removed]"
          },
          "metadata": {}
        }
      ]
    },
    {
      "cell_type": "code",
      "source": [
        "train_loss, train_accuracy = model.evaluate(x_train, y_train)"
      ],
      "metadata": {
        "colab": {
          "base_uri": "https://localhost:8080/"
        },
        "id": "V_e_0HiQLuye",
        "outputId": "21acb77c-e6ea-49ae-d152-c6c979b15ba1"
      },
      "execution_count": 17,
      "outputs": [
        {
          "output_type": "stream",
          "name": "stdout",
          "text": [
            "1875/1875 [==============================] - 4s 2ms/step - loss: 0.0447 - accuracy: 0.9948\n"
          ]
        }
      ]
    },
    {
      "cell_type": "code",
      "source": [
        "print('Training loss: ', train_loss)\n",
        "print('Training accuracy: ', train_accuracy)"
      ],
      "metadata": {
        "colab": {
          "base_uri": "https://localhost:8080/"
        },
        "id": "8g8AkPzuL35a",
        "outputId": "cf788a72-53fb-4289-9fbf-b4c6d5f18fa6"
      },
      "execution_count": 18,
      "outputs": [
        {
          "output_type": "stream",
          "name": "stdout",
          "text": [
            "Training loss:  0.04466775059700012\n",
            "Training accuracy:  0.9947500228881836\n"
          ]
        }
      ]
    },
    {
      "cell_type": "code",
      "source": [
        "validation_loss, validation_accuracy = model.evaluate(x_test, y_test)"
      ],
      "metadata": {
        "colab": {
          "base_uri": "https://localhost:8080/"
        },
        "id": "CoRU-5XjMDM5",
        "outputId": "8d3fb653-2d02-45b7-a031-35e4a0797428"
      },
      "execution_count": 19,
      "outputs": [
        {
          "output_type": "stream",
          "name": "stdout",
          "text": [
            "313/313 [==============================] - 1s 2ms/step - loss: 0.0682 - accuracy: 0.9873\n"
          ]
        }
      ]
    },
    {
      "cell_type": "code",
      "source": [
        "print('Validation loss: ', validation_loss)\n",
        "print('Validation accuracy: ', validation_accuracy)"
      ],
      "metadata": {
        "colab": {
          "base_uri": "https://localhost:8080/"
        },
        "id": "UZnCiz11MIk0",
        "outputId": "db69fbc8-a402-45a4-d610-684346a0d0b4"
      },
      "execution_count": 20,
      "outputs": [
        {
          "output_type": "stream",
          "name": "stdout",
          "text": [
            "Validation loss:  0.06821814924478531\n",
            "Validation accuracy:  0.9872999787330627\n"
          ]
        }
      ]
    },
    {
      "cell_type": "markdown",
      "source": [
        "## SVM MODEL"
      ],
      "metadata": {
        "id": "nutdsCseOnEp"
      }
    },
    {
      "cell_type": "markdown",
      "source": [
        "#### 1. Linear model"
      ],
      "metadata": {
        "id": "yUxIlL-IO04I"
      }
    },
    {
      "cell_type": "code",
      "source": [
        "from sklearn import metrics\n",
        "from sklearn.metrics import confusion_matrix\n",
        "from sklearn.svm import SVC\n",
        "\n",
        "from sklearn.model_selection import KFold\n",
        "from sklearn.model_selection import cross_val_score\n",
        "from sklearn.model_selection import GridSearchCV"
      ],
      "metadata": {
        "id": "WC9D5AzZPMg6"
      },
      "execution_count": 21,
      "outputs": []
    },
    {
      "cell_type": "code",
      "source": [
        "# Reshape x_train to 2D\n",
        "x_train_reshaped = x_train.reshape(x_train.shape[0], -1)\n",
        "\n",
        "# linear model\n",
        "model_linear = SVC(kernel='linear')\n",
        "model_linear.fit(x_train_reshaped, y_train)  # Fit the model with reshaped data\n",
        "\n",
        "# predict\n",
        "y_pred = model_linear.predict(x_test.reshape(x_test.shape[0], -1)) # Also reshape x_test before predicting"
      ],
      "metadata": {
        "id": "xC-X-0oROrBu"
      },
      "execution_count": 22,
      "outputs": []
    },
    {
      "cell_type": "code",
      "source": [
        "# confusion matrix and accuracy, precision, recall\n",
        "\n",
        "# accuracy\n",
        "print(\"accuracy:\", metrics.accuracy_score(y_true=y_test, y_pred=y_pred), \"\\n\")\n",
        "\n",
        "# cm\n",
        "print(metrics.confusion_matrix(y_true=y_test, y_pred=y_pred))"
      ],
      "metadata": {
        "colab": {
          "base_uri": "https://localhost:8080/"
        },
        "id": "09NAAjx3RO9O",
        "outputId": "6cc5a9c8-162e-4065-f367-08e09a1ba45a"
      },
      "execution_count": 23,
      "outputs": [
        {
          "output_type": "stream",
          "name": "stdout",
          "text": [
            "accuracy: 0.9404 \n",
            "\n",
            "[[ 957    0    4    1    1    6    9    1    0    1]\n",
            " [   0 1122    3    2    0    1    2    1    4    0]\n",
            " [   8    6  967   11    3    3    7    8   17    2]\n",
            " [   4    3   16  947    1   16    0    9   12    2]\n",
            " [   1    1   10    1  942    2    4    2    3   16]\n",
            " [  10    4    3   36    6  803   13    1   14    2]\n",
            " [   9    2   13    1    5   16  910    1    1    0]\n",
            " [   1    8   21   10    8    1    0  957    3   19]\n",
            " [   8    4    6   25    7   26    6    7  877    8]\n",
            " [   7    7    2   11   33    4    0   18    5  922]]\n"
          ]
        }
      ]
    },
    {
      "cell_type": "markdown",
      "source": [
        "#### 2.Poly kernel"
      ],
      "metadata": {
        "id": "bim-tWJwRlg4"
      }
    },
    {
      "cell_type": "code",
      "source": [
        "# non-linear model\n",
        "# using poly kernel, C=1, default value of gamma\n",
        "\n",
        "# model\n",
        "non_linear_model_poly = SVC(kernel='poly')\n",
        "\n",
        "# fit\n",
        "non_linear_model_poly.fit(x_train_reshaped, y_train)\n",
        "\n",
        "# predict\n",
        "y_pred = non_linear_model_poly.predict(x_test.reshape(x_test.shape[0], -1))"
      ],
      "metadata": {
        "id": "a4K9Y-kPRtAm"
      },
      "execution_count": null,
      "outputs": []
    },
    {
      "cell_type": "code",
      "source": [
        "# confusion matrix and accuracy, precision, recall\n",
        "\n",
        "# accuracy\n",
        "print(\"accuracy:\", metrics.accuracy_score(y_true=y_test, y_pred=y_pred), \"\\n\")\n",
        "\n",
        "# cm\n",
        "print(metrics.confusion_matrix(y_true=y_test, y_pred=y_pred))"
      ],
      "metadata": {
        "id": "LDk1UGfNR-84"
      },
      "execution_count": null,
      "outputs": []
    },
    {
      "cell_type": "markdown",
      "source": [
        "#### 3.rbf kernel"
      ],
      "metadata": {
        "id": "8Mt_Y99aSD9y"
      }
    },
    {
      "cell_type": "code",
      "source": [
        "# non-linear model\n",
        "# using rbf kernel, C=1, default value of gamma\n",
        "\n",
        "# model\n",
        "non_linear_model = SVC(kernel='rbf')\n",
        "\n",
        "# fit\n",
        "non_linear_model.fit(x_train_reshaped, y_train)\n",
        "\n",
        "# predict\n",
        "y_pred = non_linear_model.predict(x_test.reshape(x_test.shape[0], -1))"
      ],
      "metadata": {
        "id": "tSjy66UbSNTm"
      },
      "execution_count": null,
      "outputs": []
    },
    {
      "cell_type": "code",
      "source": [
        "# confusion matrix and accuracy, precision, recall\n",
        "\n",
        "# accuracy\n",
        "print(\"accuracy:\", metrics.accuracy_score(y_true=y_test, y_pred=y_pred), \"\\n\")\n",
        "\n",
        "# cm\n",
        "print(metrics.confusion_matrix(y_true=y_test, y_pred=y_pred))"
      ],
      "metadata": {
        "id": "o7jirB7hSfzA"
      },
      "execution_count": null,
      "outputs": []
    },
    {
      "cell_type": "markdown",
      "source": [
        "### Grid Search: Hyperparameter Tuning"
      ],
      "metadata": {
        "id": "DhHPdolvWFEe"
      }
    },
    {
      "cell_type": "code",
      "source": [
        "# creating a KFold object with 5 splits\n",
        "folds = KFold(n_splits = 5, shuffle = True, random_state = 101)\n",
        "\n",
        "# specify range of hyperparameters\n",
        "# Set the parameters by cross-validation\n",
        "hyper_params = [ {'gamma': [0.01, 0.001,0.0001],\n",
        "                     'C': [1, 10, 100]}]\n",
        "\n",
        "\n",
        "# specify model\n",
        "model = SVC(kernel=\"rbf\")\n",
        "\n",
        "# set up GridSearchCV()\n",
        "model_cv = GridSearchCV(estimator = model,\n",
        "                        param_grid = hyper_params,\n",
        "                        scoring= 'accuracy',\n",
        "                        cv = folds,\n",
        "                        verbose = 1,\n",
        "                        return_train_score=True,n_jobs = -1)\n",
        "\n",
        "# fit the model\n",
        "model_cv.fit(x_train_reshaped, y_train)"
      ],
      "metadata": {
        "id": "VAsVWgjBWFbb"
      },
      "execution_count": null,
      "outputs": []
    },
    {
      "cell_type": "code",
      "source": [
        "# cv results\n",
        "cv_results = pd.DataFrame(model_cv.cv_results_)\n",
        "cv_results"
      ],
      "metadata": {
        "id": "7wHR36q7Wb_7"
      },
      "execution_count": null,
      "outputs": []
    },
    {
      "cell_type": "code",
      "source": [
        "# converting C to numeric type for plotting on x-axis\n",
        "cv_results['param_C'] = cv_results['param_C'].astype('int')\n",
        "\n",
        "# # plotting\n",
        "plt.figure(figsize=(20,7))\n",
        "\n",
        "# subplot 1/3\n",
        "plt.subplot(131)\n",
        "gamma_01 = cv_results[cv_results['param_gamma']==0.01]\n",
        "\n",
        "plt.plot(gamma_01[\"param_C\"], gamma_01[\"mean_test_score\"])\n",
        "plt.plot(gamma_01[\"param_C\"], gamma_01[\"mean_train_score\"])\n",
        "plt.xlabel('C')\n",
        "plt.ylabel('Accuracy')\n",
        "plt.title(\"Gamma=0.01\")\n",
        "plt.ylim([0.50, 1.1])\n",
        "plt.legend(['test accuracy', 'train accuracy'], loc='upper left')\n",
        "plt.xscale('log')\n",
        "\n",
        "# subplot 2/3\n",
        "plt.subplot(132)\n",
        "gamma_001 = cv_results[cv_results['param_gamma']==0.001]\n",
        "\n",
        "plt.plot(gamma_001[\"param_C\"], gamma_001[\"mean_test_score\"])\n",
        "plt.plot(gamma_001[\"param_C\"], gamma_001[\"mean_train_score\"])\n",
        "plt.xlabel('C')\n",
        "plt.ylabel('Accuracy')\n",
        "plt.title(\"Gamma=0.001\")\n",
        "plt.ylim([0.50, 1.1])\n",
        "plt.legend(['test accuracy', 'train accuracy'], loc='upper left')\n",
        "plt.xscale('log')\n",
        "\n",
        "# subplot 3/3\n",
        "plt.subplot(133)\n",
        "gamma_0001 = cv_results[cv_results['param_gamma']==0.0001]\n",
        "\n",
        "plt.plot(gamma_0001[\"param_C\"], gamma_0001[\"mean_test_score\"])\n",
        "plt.plot(gamma_0001[\"param_C\"], gamma_0001[\"mean_train_score\"])\n",
        "plt.xlabel('C')\n",
        "plt.ylabel('Accuracy')\n",
        "plt.title(\"Gamma=0.0001\")\n",
        "plt.ylim([0.50, 1.1])\n",
        "plt.legend(['test accuracy', 'train accuracy'], loc='upper left')\n",
        "plt.xscale('log')"
      ],
      "metadata": {
        "id": "HIgi0UxWWsW8"
      },
      "execution_count": null,
      "outputs": []
    },
    {
      "cell_type": "code",
      "source": [
        "# printing the optimal accuracy score and hyperparameters\n",
        "best_score = model_cv.best_score_\n",
        "best_hyperparams = model_cv.best_params_\n",
        "\n",
        "print(\"The best test score is {0} corresponding to hyperparameters {1}\".format(best_score, best_hyperparams))"
      ],
      "metadata": {
        "id": "YuDPfOJhW2lj"
      },
      "execution_count": null,
      "outputs": []
    },
    {
      "cell_type": "markdown",
      "source": [
        "## ACCURACY OF THE DIFFERENT MODEL:\n",
        "\n",
        "\n",
        "*   CNN - 98.87\n",
        "*   SVM -\n",
        "\n",
        "        1.   LINEAR-94.04\n",
        "        2.   POLY KERNEL-97.71\n",
        "        3.   RBF -97.92\n",
        "\n",
        "\n",
        "\n",
        "\n",
        "\n",
        "\n",
        "\n",
        "\n",
        "\n",
        "\n",
        "\n",
        "\n",
        "\n"
      ],
      "metadata": {
        "id": "JLOjklhUjGWH"
      }
    },
    {
      "cell_type": "code",
      "source": [
        "#save model\n",
        "model_name = 'digits_recognition.h5'\n",
        "model.save(model_name, save_format='h5')"
      ],
      "metadata": {
        "id": "zVtOpqM0ZrlU"
      },
      "execution_count": null,
      "outputs": []
    },
    {
      "cell_type": "markdown",
      "source": [
        "## prediction"
      ],
      "metadata": {
        "id": "EUPSfy4vYcKp"
      }
    },
    {
      "cell_type": "code",
      "source": [
        "loaded_model = tf.keras.models.load_model(model_name)"
      ],
      "metadata": {
        "id": "n7rZB5aQYgSy"
      },
      "execution_count": null,
      "outputs": []
    },
    {
      "cell_type": "code",
      "source": [
        "predictions_one_hot = loaded_model.predict([x_test])\n",
        "print('predictions_one_hot:', predictions_one_hot.shape)"
      ],
      "metadata": {
        "id": "NsJx1rUqY87o"
      },
      "execution_count": null,
      "outputs": []
    },
    {
      "cell_type": "code",
      "source": [
        "# Predictions in form of one-hot vectors (arrays of probabilities).\n",
        "pd.DataFrame(predictions_one_hot)"
      ],
      "metadata": {
        "id": "cqd-GqhmZMtg"
      },
      "execution_count": null,
      "outputs": []
    },
    {
      "cell_type": "code",
      "source": [
        "# Let's extract predictions with highest probabilites and detect what digits have been actually recognized.\n",
        "predictions = np.argmax(predictions_one_hot, axis=1)\n",
        "pd.DataFrame(predictions)"
      ],
      "metadata": {
        "id": "BKDnp5QrZP1B"
      },
      "execution_count": null,
      "outputs": []
    },
    {
      "cell_type": "code",
      "source": [
        "print(predictions[0])"
      ],
      "metadata": {
        "id": "idOPdnFAZS9-"
      },
      "execution_count": null,
      "outputs": []
    },
    {
      "cell_type": "code",
      "source": [
        "plt.imshow(x_test[0].reshape((IMAGE_WIDTH, IMAGE_HEIGHT)), cmap=plt.cm.binary)\n",
        "plt.show()"
      ],
      "metadata": {
        "id": "sJT7OXJZZUpv"
      },
      "execution_count": null,
      "outputs": []
    },
    {
      "cell_type": "markdown",
      "source": [
        "## CONCLUSION"
      ],
      "metadata": {
        "id": "7m2moYeZW3hj"
      }
    },
    {
      "cell_type": "markdown",
      "source": [
        "- The dataset contains images of different Numbers.\n",
        "- Here, we tried 4 Optimizers for model creation in which **CNN** shows the highest accuracy score of **98.87%**. Thus we can conclude that it works well for the Handwritten Digit Recognition.\n",
        "- Thus we can conclude that the CNN model with Adam Optimizer is the best one for predicting the Handwritten Digits Recognition."
      ],
      "metadata": {
        "id": "Nhs7JMHFbnSa"
      }
    },
    {
      "cell_type": "markdown",
      "source": [
        "# Risks:-\n",
        "\n",
        "- Data Loading and processing.\n",
        "- High computational time.\n"
      ],
      "metadata": {
        "id": "Wf4muyJ9cd_-"
      }
    },
    {
      "cell_type": "code",
      "source": [],
      "metadata": {
        "id": "m0LjlsIbcy-W"
      },
      "execution_count": null,
      "outputs": []
    }
  ],
  "metadata": {
    "colab": {
      "provenance": [],
      "gpuType": "T4"
    },
    "kernelspec": {
      "display_name": "Python 3",
      "name": "python3"
    },
    "language_info": {
      "codemirror_mode": {
        "name": "ipython",
        "version": 3
      },
      "file_extension": ".py",
      "mimetype": "text/x-python",
      "name": "python",
      "nbconvert_exporter": "python",
      "pygments_lexer": "ipython3",
      "version": "3.11.4"
    },
    "accelerator": "GPU"
  },
  "nbformat": 4,
  "nbformat_minor": 0
}